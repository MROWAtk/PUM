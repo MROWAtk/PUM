{
  "nbformat": 4,
  "nbformat_minor": 0,
  "metadata": {
    "colab": {
      "provenance": [],
      "authorship_tag": "ABX9TyOJqjsNQ1CsC5tg9Nice97L",
      "include_colab_link": true
    },
    "kernelspec": {
      "name": "python3",
      "display_name": "Python 3"
    },
    "language_info": {
      "name": "python"
    }
  },
  "cells": [
    {
      "cell_type": "markdown",
      "metadata": {
        "id": "view-in-github",
        "colab_type": "text"
      },
      "source": [
        "<a href=\"https://colab.research.google.com/github/MROWAtk/PUM/blob/main/Lab7_systemy_rekomendacyjne.ipynb\" target=\"_parent\"><img src=\"https://colab.research.google.com/assets/colab-badge.svg\" alt=\"Open In Colab\"/></a>"
      ]
    },
    {
      "cell_type": "code",
      "source": [
        "import pandas as pd"
      ],
      "metadata": {
        "id": "ACvqBeG0dI06"
      },
      "execution_count": 1,
      "outputs": []
    },
    {
      "cell_type": "code",
      "source": [
        "ratings = pd.read_csv('ratings.csv')\n",
        "movies = pd.read_csv('movies.csv')"
      ],
      "metadata": {
        "id": "LgrEdgzfrCsS"
      },
      "execution_count": 3,
      "outputs": []
    },
    {
      "cell_type": "code",
      "source": [
        "liczba_ocen = len(ratings)"
      ],
      "metadata": {
        "id": "tnfh3cGHehRY"
      },
      "execution_count": 4,
      "outputs": []
    },
    {
      "cell_type": "code",
      "source": [
        "print(f\"Liczba wszystkich ocen: {liczba_ocen}\")"
      ],
      "metadata": {
        "colab": {
          "base_uri": "https://localhost:8080/"
        },
        "id": "btPRpcCgfaGn",
        "outputId": "7e652612-82c6-4ffd-828c-9f0db970cbfd"
      },
      "execution_count": 5,
      "outputs": [
        {
          "output_type": "stream",
          "name": "stdout",
          "text": [
            "Liczba wszystkich ocen: 100836\n"
          ]
        }
      ]
    },
    {
      "cell_type": "code",
      "source": [
        "liczba_filmow = len(movies)"
      ],
      "metadata": {
        "id": "z9-_jBnYf_-I"
      },
      "execution_count": 6,
      "outputs": []
    },
    {
      "cell_type": "code",
      "source": [
        "print(f\"Liczba filmów w bazie: {liczba_filmow}\")"
      ],
      "metadata": {
        "colab": {
          "base_uri": "https://localhost:8080/"
        },
        "id": "LXuC7lkPgEPS",
        "outputId": "132e3907-341b-4f19-b2cc-c68065cecca2"
      },
      "execution_count": 7,
      "outputs": [
        {
          "output_type": "stream",
          "name": "stdout",
          "text": [
            "Liczba filmów w bazie: 9742\n"
          ]
        }
      ]
    },
    {
      "cell_type": "code",
      "source": [
        "liczba_uzytkownikow = ratings['userId'].nunique()"
      ],
      "metadata": {
        "id": "s42-ab4_gfQS"
      },
      "execution_count": 8,
      "outputs": []
    },
    {
      "cell_type": "code",
      "source": [
        "print(f\"Liczba uzytkownikow: {liczba_uzytkownikow}\")"
      ],
      "metadata": {
        "colab": {
          "base_uri": "https://localhost:8080/"
        },
        "id": "7QtmoWGQgm9a",
        "outputId": "7d6ad605-e14c-44fc-e9af-cfb352136e44"
      },
      "execution_count": 9,
      "outputs": [
        {
          "output_type": "stream",
          "name": "stdout",
          "text": [
            "Liczba uzytkownikow: 610\n"
          ]
        }
      ]
    },
    {
      "cell_type": "code",
      "source": [
        "avg_liczba_ocen_na_uzytkownika = round(ratings.groupby('userId').size().mean(), 2)"
      ],
      "metadata": {
        "id": "R2cvGUwHhTRW"
      },
      "execution_count": 10,
      "outputs": []
    },
    {
      "cell_type": "code",
      "source": [
        "print(f\"Średnia liczba ocen na użytkownika: {avg_liczba_ocen_na_uzytkownika}\")"
      ],
      "metadata": {
        "colab": {
          "base_uri": "https://localhost:8080/"
        },
        "id": "0ZqWuv7shW5a",
        "outputId": "07297c5a-6000-430e-9108-86202d5125d9"
      },
      "execution_count": 11,
      "outputs": [
        {
          "output_type": "stream",
          "name": "stdout",
          "text": [
            "Średnia liczba ocen na użytkownika: 165.3\n"
          ]
        }
      ]
    },
    {
      "cell_type": "code",
      "source": [
        "avg_liczba_ocen_na_film = round(ratings.groupby('movieId').size().mean(), 2)"
      ],
      "metadata": {
        "id": "cMlWEatjh0uz"
      },
      "execution_count": 12,
      "outputs": []
    },
    {
      "cell_type": "code",
      "source": [
        "print(f\"Średnia liczba ocen na film: {avg_liczba_ocen_na_film}\")"
      ],
      "metadata": {
        "colab": {
          "base_uri": "https://localhost:8080/"
        },
        "id": "yCCdkFKIiMyp",
        "outputId": "bb2c7066-9378-4be7-fea6-c19183729acd"
      },
      "execution_count": 13,
      "outputs": [
        {
          "output_type": "stream",
          "name": "stdout",
          "text": [
            "Średnia liczba ocen na film: 10.37\n"
          ]
        }
      ]
    },
    {
      "cell_type": "code",
      "source": [
        "rozkład_ocen = ratings['rating'].value_counts().sort_index()"
      ],
      "metadata": {
        "id": "gzAlSvCBiVNf"
      },
      "execution_count": 14,
      "outputs": []
    },
    {
      "cell_type": "code",
      "source": [
        "print(rozkład_ocen)"
      ],
      "metadata": {
        "colab": {
          "base_uri": "https://localhost:8080/"
        },
        "id": "BtBDbNpvinkg",
        "outputId": "1085ebfb-907f-49d0-ecdd-557dc50ff2df"
      },
      "execution_count": 15,
      "outputs": [
        {
          "output_type": "stream",
          "name": "stdout",
          "text": [
            "rating\n",
            "0.5     1370\n",
            "1.0     2811\n",
            "1.5     1791\n",
            "2.0     7551\n",
            "2.5     5550\n",
            "3.0    20047\n",
            "3.5    13136\n",
            "4.0    26818\n",
            "4.5     8551\n",
            "5.0    13211\n",
            "Name: count, dtype: int64\n"
          ]
        }
      ]
    },
    {
      "cell_type": "code",
      "source": [
        "movie_titles = dict(zip(movies['movieId'], movies['title']))\n",
        "C = ratings['rating'].count().mean()\n",
        "m = ratings['rating'].mean()"
      ],
      "metadata": {
        "id": "IfU6SHu5iutA"
      },
      "execution_count": 16,
      "outputs": []
    },
    {
      "cell_type": "code",
      "source": [
        "def bayesian_avg(ratings):\n",
        "  bayesian_avg = (C * m + ratings.sum()) / (C + ratings.count())\n",
        "  return bayesian_avg"
      ],
      "metadata": {
        "id": "YcH4gGtukOtp"
      },
      "execution_count": 17,
      "outputs": []
    },
    {
      "cell_type": "code",
      "source": [
        "bayesian_avg_ratings = ratings.groupby('movieId')['rating'].agg(bayesian_avg).reset_index()\n",
        "bayesian_avg_ratings.columns = ['movieId', 'bayesian_avg']\n",
        "movies_with_bayesian = movies.merge(bayesian_avg_ratings, on='movieId')"
      ],
      "metadata": {
        "id": "kOOH5V24kt6C"
      },
      "execution_count": 20,
      "outputs": []
    },
    {
      "cell_type": "code",
      "source": [
        "print(\"\\n5 wierszy danych o filmach z wartością średniej oceny bayesowskiej:\")\n",
        "print(movies_with_bayesian.head())"
      ],
      "metadata": {
        "colab": {
          "base_uri": "https://localhost:8080/"
        },
        "id": "rkxMBmg9lATS",
        "outputId": "1f6ab79b-e217-43d7-df76-254de69a1265"
      },
      "execution_count": 21,
      "outputs": [
        {
          "output_type": "stream",
          "name": "stdout",
          "text": [
            "\n",
            "5 wierszy danych o filmach z wartością średniej oceny bayesowskiej:\n",
            "   movieId                               title  \\\n",
            "0        1                    Toy Story (1995)   \n",
            "1        2                      Jumanji (1995)   \n",
            "2        3             Grumpier Old Men (1995)   \n",
            "3        4            Waiting to Exhale (1995)   \n",
            "4        5  Father of the Bride Part II (1995)   \n",
            "\n",
            "                                        genres  bayesian_avg  \n",
            "0  Adventure|Animation|Children|Comedy|Fantasy      3.502449  \n",
            "1                   Adventure|Children|Fantasy      3.501481  \n",
            "2                               Comedy|Romance      3.501432  \n",
            "3                         Comedy|Drama|Romance      3.501478  \n",
            "4                                       Comedy      3.501348  \n"
          ]
        }
      ]
    },
    {
      "cell_type": "code",
      "source": [
        "!pip install numpy==1.23.5"
      ],
      "metadata": {
        "colab": {
          "base_uri": "https://localhost:8080/"
        },
        "id": "yNm1rMZ-pPIv",
        "outputId": "57a18df1-4c9c-4814-9175-30cbf9ee714b"
      },
      "execution_count": 22,
      "outputs": [
        {
          "output_type": "stream",
          "name": "stdout",
          "text": [
            "Requirement already satisfied: numpy==1.23.5 in /usr/local/lib/python3.11/dist-packages (1.23.5)\n"
          ]
        }
      ]
    },
    {
      "cell_type": "code",
      "source": [
        "!pip install surprise\n",
        "from surprise.model_selection import cross_validate, GridSearchCV\n",
        "from surprise.prediction_algorithms import SVD, KNNBasic, KNNBaseline\n",
        "from surprise import Dataset\n",
        "from surprise import Reader"
      ],
      "metadata": {
        "colab": {
          "base_uri": "https://localhost:8080/"
        },
        "id": "yQp3MGQDpp2Y",
        "outputId": "f6b4ac59-2bf2-4dfe-d287-af563d95fb4d"
      },
      "execution_count": 23,
      "outputs": [
        {
          "output_type": "stream",
          "name": "stdout",
          "text": [
            "Collecting surprise\n",
            "  Downloading surprise-0.1-py2.py3-none-any.whl.metadata (327 bytes)\n",
            "Collecting scikit-surprise (from surprise)\n",
            "  Downloading scikit_surprise-1.1.4.tar.gz (154 kB)\n",
            "\u001b[?25l     \u001b[90m━━━━━━━━━━━━━━━━━━━━━━━━━━━━━━━━━━━━━━━━\u001b[0m \u001b[32m0.0/154.4 kB\u001b[0m \u001b[31m?\u001b[0m eta \u001b[36m-:--:--\u001b[0m\r\u001b[2K     \u001b[91m━━━━━━━━━━━━━━━━━━━━━━━━━\u001b[0m\u001b[91m╸\u001b[0m\u001b[90m━━━━━━━━━━━━━\u001b[0m \u001b[32m102.4/154.4 kB\u001b[0m \u001b[31m2.8 MB/s\u001b[0m eta \u001b[36m0:00:01\u001b[0m\r\u001b[2K     \u001b[90m━━━━━━━━━━━━━━━━━━━━━━━━━━━━━━━━━━━━━━━\u001b[0m \u001b[32m154.4/154.4 kB\u001b[0m \u001b[31m2.8 MB/s\u001b[0m eta \u001b[36m0:00:00\u001b[0m\n",
            "\u001b[?25h  Installing build dependencies ... \u001b[?25l\u001b[?25hdone\n",
            "  Getting requirements to build wheel ... \u001b[?25l\u001b[?25hdone\n",
            "  Preparing metadata (pyproject.toml) ... \u001b[?25l\u001b[?25hdone\n",
            "Requirement already satisfied: joblib>=1.2.0 in /usr/local/lib/python3.11/dist-packages (from scikit-surprise->surprise) (1.5.0)\n",
            "Requirement already satisfied: numpy>=1.19.5 in /usr/local/lib/python3.11/dist-packages (from scikit-surprise->surprise) (1.23.5)\n",
            "Requirement already satisfied: scipy>=1.6.0 in /usr/local/lib/python3.11/dist-packages (from scikit-surprise->surprise) (1.15.3)\n",
            "Downloading surprise-0.1-py2.py3-none-any.whl (1.8 kB)\n",
            "Building wheels for collected packages: scikit-surprise\n",
            "  Building wheel for scikit-surprise (pyproject.toml) ... \u001b[?25l\u001b[?25hdone\n",
            "  Created wheel for scikit-surprise: filename=scikit_surprise-1.1.4-cp311-cp311-linux_x86_64.whl size=2461562 sha256=bd79425500c38c59b2bebd128235f29e66d5ed35d2018f86781c76519d1b733e\n",
            "  Stored in directory: /root/.cache/pip/wheels/2a/8f/6e/7e2899163e2d85d8266daab4aa1cdabec7a6c56f83c015b5af\n",
            "Successfully built scikit-surprise\n",
            "Installing collected packages: scikit-surprise, surprise\n",
            "Successfully installed scikit-surprise-1.1.4 surprise-0.1\n"
          ]
        }
      ]
    },
    {
      "cell_type": "code",
      "source": [
        "reader = Reader(rating_scale=(1, 5))\n",
        "data = Dataset.load_from_df(ratings[['userId', 'movieId', 'rating']], reader)\n",
        "trainset = data.build_full_trainset()\n",
        "\n",
        "algo = SVD()\n",
        "algo.fit(trainset)\n",
        "\n",
        "all_movie_ids = ratings['movieId'].unique()\n",
        "\n",
        "rated_movie_ids_user_600 = ratings[ratings['userId'] == 600]['movieId'].tolist()\n",
        "unrated_movie_ids_user_600 = [movie_id for movie_id in all_movie_ids if movie_id not in rated_movie_ids_user_600]\n",
        "\n",
        "predictions = []\n",
        "for movie_id in unrated_movie_ids_user_600:\n",
        "  predictions.append((movie_id, algo.predict(600, movie_id).est))\n",
        "\n",
        "predictions.sort(key=lambda x: x[1], reverse=True)\n",
        "\n",
        "top_10_recommended_movie_ids = [movie_id for movie_id, ratinng in predictions[:10]]\n",
        "\n",
        "recommended_movies = movies[movies['movieId'].isin(top_10_recommended_movie_ids)]\n",
        "\n",
        "print(\"Recommendations for user 600:\")\n",
        "print(recommended_movies[['title']])"
      ],
      "metadata": {
        "colab": {
          "base_uri": "https://localhost:8080/"
        },
        "id": "zcDHI6H1qisI",
        "outputId": "7006e60c-d590-4892-8faa-755e44a51112"
      },
      "execution_count": 24,
      "outputs": [
        {
          "output_type": "stream",
          "name": "stdout",
          "text": [
            "Recommendations for user 600:\n",
            "                                                  title\n",
            "585   Wallace & Gromit: The Best of Aardman Animatio...\n",
            "596          Ghost in the Shell (Kôkaku kidôtai) (1995)\n",
            "685                                      Vertigo (1958)\n",
            "905                                 12 Angry Men (1957)\n",
            "906                           Lawrence of Arabia (1962)\n",
            "2247                               On Any Sunday (1971)\n",
            "3562                                Donnie Darko (2001)\n",
            "6016                         Kiss Kiss Bang Bang (2005)\n",
            "6529                                    Stardust (2007)\n",
            "7456                                  Black Swan (2010)\n"
          ]
        }
      ]
    }
  ]
}