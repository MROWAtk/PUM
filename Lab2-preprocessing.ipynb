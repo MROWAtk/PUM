{
  "nbformat": 4,
  "nbformat_minor": 0,
  "metadata": {
    "colab": {
      "provenance": [],
      "authorship_tag": "ABX9TyPDwdBRNassL86PIemdNh8G",
      "include_colab_link": true
    },
    "kernelspec": {
      "name": "python3",
      "display_name": "Python 3"
    },
    "language_info": {
      "name": "python"
    }
  },
  "cells": [
    {
      "cell_type": "markdown",
      "metadata": {
        "id": "view-in-github",
        "colab_type": "text"
      },
      "source": [
        "<a href=\"https://colab.research.google.com/github/MROWAtk/PUM/blob/main/Lab2-preprocessing.ipynb\" target=\"_parent\"><img src=\"https://colab.research.google.com/assets/colab-badge.svg\" alt=\"Open In Colab\"/></a>"
      ]
    },
    {
      "cell_type": "code",
      "execution_count": 1,
      "metadata": {
        "colab": {
          "base_uri": "https://localhost:8080/"
        },
        "id": "aVM43f47MKeQ",
        "outputId": "a4e2629f-7a43-44ca-8664-d7f3626e4e78"
      },
      "outputs": [
        {
          "output_type": "stream",
          "name": "stdout",
          "text": [
            "Cloning into 'PUM'...\n",
            "remote: Enumerating objects: 25, done.\u001b[K\n",
            "remote: Counting objects: 100% (25/25), done.\u001b[K\n",
            "remote: Compressing objects: 100% (23/23), done.\u001b[K\n",
            "remote: Total 25 (delta 5), reused 0 (delta 0), pack-reused 0 (from 0)\u001b[K\n",
            "Receiving objects: 100% (25/25), 3.49 MiB | 5.37 MiB/s, done.\n",
            "Resolving deltas: 100% (5/5), done.\n"
          ]
        }
      ],
      "source": [
        "!git clone https://github.com/MROWAtk/PUM"
      ]
    },
    {
      "cell_type": "code",
      "source": [
        "#import necessary libraries\n",
        "import pandas as pd\n",
        "import numpy as np\n",
        "import matplotlib.pyplot as plt\n",
        "import seaborn as sns\n",
        "from sklearn.preprocessing import LabelEncoder\n",
        "from sklearn.preprocessing import MultiLabelBinarizer"
      ],
      "metadata": {
        "id": "68qjZaiwQKpE"
      },
      "execution_count": 2,
      "outputs": []
    },
    {
      "cell_type": "code",
      "source": [
        "# pip install kagglehub[pandas-datasets]\n",
        "import kagglehub\n",
        "from kagglehub import KaggleDatasetAdapter\n",
        "\n",
        "# Set the path to the file you'd like to load\n",
        "file_path = \"train.csv\"\n",
        "\n",
        "# Load the latest version\n",
        "df = kagglehub.load_dataset(KaggleDatasetAdapter.PANDAS, \"parisrohan/credit-score-classification\", file_path,\n",
        ")\n",
        "\n",
        "print(\"First 5 records:\", df.head())\n",
        "\n",
        "print(df.shape)"
      ],
      "metadata": {
        "colab": {
          "base_uri": "https://localhost:8080/"
        },
        "id": "qPvOBsZjQL7q",
        "outputId": "177d558e-b2d9-45c2-c00a-c278b760a0ce"
      },
      "execution_count": 3,
      "outputs": [
        {
          "output_type": "stream",
          "name": "stderr",
          "text": [
            "<ipython-input-3-c299aa20f6ed>:9: DeprecationWarning: load_dataset is deprecated and will be removed in future version.\n",
            "  df = kagglehub.load_dataset(KaggleDatasetAdapter.PANDAS, \"parisrohan/credit-score-classification\", file_path,\n"
          ]
        },
        {
          "output_type": "stream",
          "name": "stdout",
          "text": [
            "Downloading from https://www.kaggle.com/api/v1/datasets/download/parisrohan/credit-score-classification?dataset_version_number=1&file_name=train.csv...\n"
          ]
        },
        {
          "output_type": "stream",
          "name": "stderr",
          "text": [
            "100%|██████████| 6.09M/6.09M [00:00<00:00, 156MB/s]"
          ]
        },
        {
          "output_type": "stream",
          "name": "stdout",
          "text": [
            "Extracting zip of train.csv...\n"
          ]
        },
        {
          "output_type": "stream",
          "name": "stderr",
          "text": [
            "\n"
          ]
        },
        {
          "output_type": "stream",
          "name": "stdout",
          "text": [
            "First 5 records:        ID Customer_ID     Month           Name   Age          SSN Occupation  \\\n",
            "0  0x1602   CUS_0xd40   January  Aaron Maashoh    23  821-00-0265  Scientist   \n",
            "1  0x1603   CUS_0xd40  February  Aaron Maashoh    23  821-00-0265  Scientist   \n",
            "2  0x1604   CUS_0xd40     March  Aaron Maashoh  -500  821-00-0265  Scientist   \n",
            "3  0x1605   CUS_0xd40     April  Aaron Maashoh    23  821-00-0265  Scientist   \n",
            "4  0x1606   CUS_0xd40       May  Aaron Maashoh    23  821-00-0265  Scientist   \n",
            "\n",
            "  Annual_Income  Monthly_Inhand_Salary  Num_Bank_Accounts  ...  Credit_Mix  \\\n",
            "0      19114.12            1824.843333                  3  ...           _   \n",
            "1      19114.12                    NaN                  3  ...        Good   \n",
            "2      19114.12                    NaN                  3  ...        Good   \n",
            "3      19114.12                    NaN                  3  ...        Good   \n",
            "4      19114.12            1824.843333                  3  ...        Good   \n",
            "\n",
            "   Outstanding_Debt Credit_Utilization_Ratio     Credit_History_Age  \\\n",
            "0            809.98                26.822620  22 Years and 1 Months   \n",
            "1            809.98                31.944960                    NaN   \n",
            "2            809.98                28.609352  22 Years and 3 Months   \n",
            "3            809.98                31.377862  22 Years and 4 Months   \n",
            "4            809.98                24.797347  22 Years and 5 Months   \n",
            "\n",
            "   Payment_of_Min_Amount Total_EMI_per_month Amount_invested_monthly  \\\n",
            "0                     No           49.574949       80.41529543900253   \n",
            "1                     No           49.574949      118.28022162236736   \n",
            "2                     No           49.574949         81.699521264648   \n",
            "3                     No           49.574949       199.4580743910713   \n",
            "4                     No           49.574949      41.420153086217326   \n",
            "\n",
            "                  Payment_Behaviour     Monthly_Balance Credit_Score  \n",
            "0   High_spent_Small_value_payments  312.49408867943663         Good  \n",
            "1    Low_spent_Large_value_payments  284.62916249607184         Good  \n",
            "2   Low_spent_Medium_value_payments   331.2098628537912         Good  \n",
            "3    Low_spent_Small_value_payments  223.45130972736786         Good  \n",
            "4  High_spent_Medium_value_payments  341.48923103222177         Good  \n",
            "\n",
            "[5 rows x 28 columns]\n",
            "(100000, 28)\n"
          ]
        },
        {
          "output_type": "stream",
          "name": "stderr",
          "text": [
            "/usr/local/lib/python3.11/dist-packages/kagglehub/pandas_datasets.py:91: DtypeWarning: Columns (26) have mixed types. Specify dtype option on import or set low_memory=False.\n",
            "  result = read_function(\n"
          ]
        }
      ]
    },
    {
      "cell_type": "code",
      "source": [
        "# Drop duplicates\n",
        "df = df.drop_duplicates()\n",
        "\n",
        "print(df.shape)"
      ],
      "metadata": {
        "colab": {
          "base_uri": "https://localhost:8080/"
        },
        "id": "AG5f4_jkQVmN",
        "outputId": "3d97db11-c60f-4881-9f40-d36ee814f483"
      },
      "execution_count": 4,
      "outputs": [
        {
          "output_type": "stream",
          "name": "stdout",
          "text": [
            "(100000, 28)\n"
          ]
        }
      ]
    },
    {
      "cell_type": "code",
      "source": [
        "# Drop unused columns\n",
        "df = df.drop(columns=['ID', 'Customer_ID', 'SSN', 'Name'])\n",
        "\n",
        "print(df.head())"
      ],
      "metadata": {
        "colab": {
          "base_uri": "https://localhost:8080/"
        },
        "id": "_VXs_VbISLuH",
        "outputId": "3a0530c2-1222-47d2-ce6e-5bdd3e107f6e"
      },
      "execution_count": 5,
      "outputs": [
        {
          "output_type": "stream",
          "name": "stdout",
          "text": [
            "      Month   Age Occupation Annual_Income  Monthly_Inhand_Salary  \\\n",
            "0   January    23  Scientist      19114.12            1824.843333   \n",
            "1  February    23  Scientist      19114.12                    NaN   \n",
            "2     March  -500  Scientist      19114.12                    NaN   \n",
            "3     April    23  Scientist      19114.12                    NaN   \n",
            "4       May    23  Scientist      19114.12            1824.843333   \n",
            "\n",
            "   Num_Bank_Accounts  Num_Credit_Card  Interest_Rate Num_of_Loan  \\\n",
            "0                  3                4              3           4   \n",
            "1                  3                4              3           4   \n",
            "2                  3                4              3           4   \n",
            "3                  3                4              3           4   \n",
            "4                  3                4              3           4   \n",
            "\n",
            "                                        Type_of_Loan  ...  Credit_Mix  \\\n",
            "0  Auto Loan, Credit-Builder Loan, Personal Loan,...  ...           _   \n",
            "1  Auto Loan, Credit-Builder Loan, Personal Loan,...  ...        Good   \n",
            "2  Auto Loan, Credit-Builder Loan, Personal Loan,...  ...        Good   \n",
            "3  Auto Loan, Credit-Builder Loan, Personal Loan,...  ...        Good   \n",
            "4  Auto Loan, Credit-Builder Loan, Personal Loan,...  ...        Good   \n",
            "\n",
            "  Outstanding_Debt Credit_Utilization_Ratio     Credit_History_Age  \\\n",
            "0           809.98                26.822620  22 Years and 1 Months   \n",
            "1           809.98                31.944960                    NaN   \n",
            "2           809.98                28.609352  22 Years and 3 Months   \n",
            "3           809.98                31.377862  22 Years and 4 Months   \n",
            "4           809.98                24.797347  22 Years and 5 Months   \n",
            "\n",
            "  Payment_of_Min_Amount Total_EMI_per_month  Amount_invested_monthly  \\\n",
            "0                    No           49.574949        80.41529543900253   \n",
            "1                    No           49.574949       118.28022162236736   \n",
            "2                    No           49.574949          81.699521264648   \n",
            "3                    No           49.574949        199.4580743910713   \n",
            "4                    No           49.574949       41.420153086217326   \n",
            "\n",
            "                  Payment_Behaviour     Monthly_Balance  Credit_Score  \n",
            "0   High_spent_Small_value_payments  312.49408867943663          Good  \n",
            "1    Low_spent_Large_value_payments  284.62916249607184          Good  \n",
            "2   Low_spent_Medium_value_payments   331.2098628537912          Good  \n",
            "3    Low_spent_Small_value_payments  223.45130972736786          Good  \n",
            "4  High_spent_Medium_value_payments  341.48923103222177          Good  \n",
            "\n",
            "[5 rows x 24 columns]\n"
          ]
        }
      ]
    },
    {
      "cell_type": "code",
      "source": [
        "FeaturesToConvert = ['Age', 'Annual_Income', 'Num_of_Loan', 'Num_of_Delayed_Payment', 'Changed_Credit_Limit', 'Outstanding_Debt', 'Amount_invested_monthly', 'Monthly_Balance']\n",
        "\n",
        "# usuń zbędne znaki '-’ , '_'\n",
        "for feature in FeaturesToConvert:\n",
        "  df[feature] = df[feature].str.strip('-_')\n",
        "\n",
        "# puste kolumny zastąp NAN\n",
        "for feature in FeaturesToConvert:\n",
        "  df[feature] = df[feature].replace({'':np.nan})\n",
        "\n",
        "print(df.head())"
      ],
      "metadata": {
        "colab": {
          "base_uri": "https://localhost:8080/"
        },
        "id": "5__KWQxvTrWp",
        "outputId": "c3d3c021-53a8-4e2d-bce8-a27424e39f3b"
      },
      "execution_count": 6,
      "outputs": [
        {
          "output_type": "stream",
          "name": "stdout",
          "text": [
            "      Month  Age Occupation Annual_Income  Monthly_Inhand_Salary  \\\n",
            "0   January   23  Scientist      19114.12            1824.843333   \n",
            "1  February   23  Scientist      19114.12                    NaN   \n",
            "2     March  500  Scientist      19114.12                    NaN   \n",
            "3     April   23  Scientist      19114.12                    NaN   \n",
            "4       May   23  Scientist      19114.12            1824.843333   \n",
            "\n",
            "   Num_Bank_Accounts  Num_Credit_Card  Interest_Rate Num_of_Loan  \\\n",
            "0                  3                4              3           4   \n",
            "1                  3                4              3           4   \n",
            "2                  3                4              3           4   \n",
            "3                  3                4              3           4   \n",
            "4                  3                4              3           4   \n",
            "\n",
            "                                        Type_of_Loan  ...  Credit_Mix  \\\n",
            "0  Auto Loan, Credit-Builder Loan, Personal Loan,...  ...           _   \n",
            "1  Auto Loan, Credit-Builder Loan, Personal Loan,...  ...        Good   \n",
            "2  Auto Loan, Credit-Builder Loan, Personal Loan,...  ...        Good   \n",
            "3  Auto Loan, Credit-Builder Loan, Personal Loan,...  ...        Good   \n",
            "4  Auto Loan, Credit-Builder Loan, Personal Loan,...  ...        Good   \n",
            "\n",
            "  Outstanding_Debt Credit_Utilization_Ratio     Credit_History_Age  \\\n",
            "0           809.98                26.822620  22 Years and 1 Months   \n",
            "1           809.98                31.944960                    NaN   \n",
            "2           809.98                28.609352  22 Years and 3 Months   \n",
            "3           809.98                31.377862  22 Years and 4 Months   \n",
            "4           809.98                24.797347  22 Years and 5 Months   \n",
            "\n",
            "  Payment_of_Min_Amount Total_EMI_per_month  Amount_invested_monthly  \\\n",
            "0                    No           49.574949        80.41529543900253   \n",
            "1                    No           49.574949       118.28022162236736   \n",
            "2                    No           49.574949          81.699521264648   \n",
            "3                    No           49.574949        199.4580743910713   \n",
            "4                    No           49.574949       41.420153086217326   \n",
            "\n",
            "                  Payment_Behaviour     Monthly_Balance  Credit_Score  \n",
            "0   High_spent_Small_value_payments  312.49408867943663          Good  \n",
            "1    Low_spent_Large_value_payments  284.62916249607184          Good  \n",
            "2   Low_spent_Medium_value_payments   331.2098628537912          Good  \n",
            "3    Low_spent_Small_value_payments  223.45130972736786          Good  \n",
            "4  High_spent_Medium_value_payments  341.48923103222177          Good  \n",
            "\n",
            "[5 rows x 24 columns]\n"
          ]
        }
      ]
    },
    {
      "cell_type": "code",
      "source": [
        "# Mapa miesięcy\n",
        "month_mapping = {\n",
        "    \"January\": 1, \"February\": 2, \"March\": 3, \"April\": 4, \"May\": 5, \"June\": 6,\n",
        "    \"July\": 7, \"August\": 8, \"September\": 9, \"October\": 10, \"November\": 11, \"December\": 12\n",
        "}\n",
        "\n",
        "# Zastosowanie mapowania do kolumny 'month'\n",
        "df['Month'] = df['Month'].map(month_mapping)\n",
        "\n",
        "print(df['Month'])"
      ],
      "metadata": {
        "colab": {
          "base_uri": "https://localhost:8080/"
        },
        "id": "sxNENL7IZdtA",
        "outputId": "bfda1784-f672-4b41-cfaf-93dcdbb79e74"
      },
      "execution_count": 7,
      "outputs": [
        {
          "output_type": "stream",
          "name": "stdout",
          "text": [
            "0        1\n",
            "1        2\n",
            "2        3\n",
            "3        4\n",
            "4        5\n",
            "        ..\n",
            "99995    4\n",
            "99996    5\n",
            "99997    6\n",
            "99998    7\n",
            "99999    8\n",
            "Name: Month, Length: 100000, dtype: int64\n"
          ]
        }
      ]
    },
    {
      "cell_type": "code",
      "source": [],
      "metadata": {
        "id": "HUa6vs3LdLQS"
      },
      "execution_count": null,
      "outputs": []
    }
  ]
}